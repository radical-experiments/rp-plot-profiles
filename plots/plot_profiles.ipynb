{
 "metadata": {
  "name": "plot_profiles"
 },
 "nbformat": 3,
 "nbformat_minor": 0,
 "worksheets": [
  {
   "cells": [
    {
     "cell_type": "code",
     "collapsed": false,
     "input": [
      "%pylab inline\n",
      "\n",
      "import os\n",
      "import matplotlib.pyplot   as plt\n",
      "import pandas              as pd\n",
      "import pprint              as pp\n",
      "\n",
      "import radical.utils       as ru\n",
      "import radical.pilot       as rp\n",
      "import radical.pilot.utils as rpu\n"
     ],
     "language": "python",
     "metadata": {},
     "outputs": [
      {
       "output_type": "stream",
       "stream": "stdout",
       "text": [
        "\n",
        "Welcome to pylab, a matplotlib-based Python environment [backend: module://IPython.zmq.pylab.backend_inline].\n",
        "For more information, type 'help(pylab)'.\n"
       ]
      },
      {
       "output_type": "stream",
       "stream": "stderr",
       "text": [
        "2015:06:24 23:53:18 27665  MainThread   radical               : [INFO    ] python.interpreter   version: 2.7.5+ (default, Sep 17 2013, 15:31:50) [GCC 4.8.1]\n"
       ]
      },
      {
       "output_type": "stream",
       "stream": "stderr",
       "text": [
        "2015:06:24 23:53:18 27665  MainThread   radical               : [INFO    ] radical.utils        version: 0.28 (0.28)\n"
       ]
      },
      {
       "output_type": "stream",
       "stream": "stderr",
       "text": [
        "2015:06:24 23:53:18 27665  MainThread   saga                  : [INFO    ] saga-python          version: v0.28-5-gb15fa5e@devel-andre\n"
       ]
      },
      {
       "output_type": "stream",
       "stream": "stderr",
       "text": [
        "2015:06:24 23:53:18 27665  MainThread   radical.pilot         : [INFO    ] radical.pilot        version: v0.33-150-g889e2ce@test-tmp_exec_dir\n"
       ]
      }
     ],
     "prompt_number": 1
    },
    {
     "cell_type": "code",
     "collapsed": false,
     "input": [
      "# define a colorscheme we use consistently throughout this notebook\n",
      "colors   = {'exe'  : 'green'    , \n",
      "            'emu'  : 'blue'     , \n",
      "            'pro'  : 'red'      ,\n",
      "            'diff' : 'black'    }\n",
      "modnames = {'exe'  : 'execution', \n",
      "            'emu'  : 'emulation', \n",
      "            'pro'  : 'profiling'}\n",
      "\n",
      "font = {'family' : 'monospace',\n",
      "        'weight' : 'normal',\n",
      "        'size'   : 14}\n",
      "\n",
      "plt.rc('font', **font)\n",
      "\n",
      "def create_figure(title=None):\n",
      "    \"\"\"\n",
      "    create a plot object and tune its layout to our liking.\n",
      "    \"\"\"\n",
      "    \n",
      "    fig, ax = plt.subplots(figsize=(10,5))\n",
      "    if title:\n",
      "        ax.set_title(title, fontsize=18)\n",
      "    \n",
      "    ax.grid(False)\n",
      "\n",
      "    ax.spines['right'].set_color('none')\n",
      "    ax.spines['top'].set_color('none')\n",
      "\n",
      "    ax.xaxis.set_ticks_position('bottom')\n",
      "    ax.yaxis.set_ticks_position('left')\n",
      "\n",
      "    ax.spines['bottom'].set_position(('axes', -0.05))\n",
      "    ax.spines['left'].set_position(('axes', -0.02))\n",
      "    ax.xaxis.grid(False)\n",
      "    ax.yaxis.grid(False)\n",
      "\n",
      "    plt.xticks(fontsize=14)\n",
      "    plt.yticks(fontsize=14)\n",
      "    \n",
      "    fig.tight_layout()\n",
      "\n",
      "    return ax"
     ],
     "language": "python",
     "metadata": {},
     "outputs": [],
     "prompt_number": 10
    },
    {
     "cell_type": "code",
     "collapsed": false,
     "input": [
      "\n",
      "cwd         = os.getcwd()\n",
      "experiments = {#'stampede popen sleep 1/1/1/1 (?)' : [\"rp.session.thinkie.merzky.016609.0007-pilot.0000\"],\n",
      "               #'stampede shell sleep 16/8/8/4'    : [\"rp.session.ip-10-184-31-85.merzky.016610.0112-pilot.0000\"],\n",
      "               #'stampede shell mdrun 16/8/8/4'    : [\"rp.session.ip-10-184-31-85.merzky.016611.0013-pilot.0000\"],\n",
      "               #'titan    shell sleep 1/1/1/1 a'   : ['rp.session.titan-ext4.marksant1.016607.0005-pilot.0005'],\n",
      "               #'titan    shell sleep 1/1/1/1 b'   : ['rp.session.titan-ext4.marksant1.016607.0006-pilot.0000'],\n",
      "                'proposal plot' : [\"rp.session.ip-10-184-31-85.merzky.016611.0013-pilot.0000\",\n",
      "                                   'rp.session.titan-ext4.marksant1.016607.0006-pilot.0000']\n",
      "              }\n",
      "pid         = \"pilot.0000\"\n",
      "\n",
      "exp_frames  = dict()\n",
      "conc_frames = dict()\n",
      "\n",
      "for exp in experiments:\n",
      "    \n",
      "    print exp\n",
      "    \n",
      "    exp_frames[exp] = list()\n",
      "    conc_frames[exp] = list()\n",
      "    \n",
      "    for sid in experiments[exp]:\n",
      "        print sid,\n",
      "        prof  = \"%s/../profiles/%s.prof\" % (cwd, sid)\n",
      "        frame = pd.read_csv(prof)\n",
      "        exp_frames[exp].append (frame)\n",
      "\n",
      "        conc = list()\n",
      "        cu_num = 0\n",
      "        for index, row in frame.sort(columns=['time']).iterrows():\n",
      "    \n",
      "            if row.message == \"ExecWorker to watcher (Executing)\":\n",
      "                cu_num += 1\n",
      "              # print row.time, cu_num\n",
      "                conc.append ({'time': row.time, 'cu_num': cu_num})\n",
      "            elif row.message == \"execution complete\":\n",
      "                cu_num -= 1\n",
      "              # print row.time, cu_num\n",
      "                conc.append ({'time': row.time, 'cu_num': cu_num})\n",
      "\n",
      "        conc_frame = pd.DataFrame (conc)\n",
      "        print len(conc_frame)\n",
      "        conc_frames[exp].append(conc_frame)\n"
     ],
     "language": "python",
     "metadata": {},
     "outputs": [
      {
       "output_type": "stream",
       "stream": "stdout",
       "text": [
        "proposal plot\n",
        "rp.session.ip-10-184-31-85.merzky.016611.0013-pilot.0000 "
       ]
      },
      {
       "output_type": "stream",
       "stream": "stdout",
       "text": [
        "4096\n",
        "rp.session.titan-ext4.marksant1.016607.0006-pilot.0000 "
       ]
      },
      {
       "output_type": "stream",
       "stream": "stdout",
       "text": [
        "1234\n"
       ]
      }
     ],
     "prompt_number": 79
    },
    {
     "cell_type": "code",
     "collapsed": false,
     "input": [
      "def plot_conc (sid, conc_frames, title=None, labels=[]):\n",
      "    \n",
      "    ax_ops = None\n",
      "    \n",
      "    if not title: \n",
      "      # ax_ops = create_figure('Number of CUs over time')\n",
      "        ax_ops = create_figure()\n",
      "    else:\n",
      "        ax_ops = create_figure(title)\n",
      "\n",
      "    for frame in conc_frames:\n",
      "        frame.plot(logy=True, y='time', x='cu_num', ax=ax_ops)\n",
      "    \n",
      "    ax_ops.set_ylabel(\"time (s)\",                   fontsize=14)\n",
      "    ax_ops.set_xlabel(\"number of concurrent tasks\", fontsize=14)\n",
      "  # legend([], loc='upper right', fontsize=0)\n",
      "    legend(labels, loc='upper right', fontsize=14)\n",
      "    savefig('%s.%s.cu_num.png' % (sid, pid), bbox_inches='tight')\n",
      "    savefig('%s.%s.cu_num.pdf' % (sid, pid), bbox_inches='tight')\n",
      "    show()"
     ],
     "language": "python",
     "metadata": {},
     "outputs": [],
     "prompt_number": 85
    },
    {
     "cell_type": "code",
     "collapsed": false,
     "input": [
      "\n",
      "for exp in conc_frames:\n",
      "    print exp\n",
      "\n",
      "    plot_frames = list()\n",
      "    \n",
      "    # add a frame for target perf, as a copy of the first frame\n",
      "    tgt = conc_frames[exp][0].copy()\n",
      "    print len(tgt)\n",
      "    \n",
      "    for i in range(len(tgt)):\n",
      "        tgt.ix[i,1] = i/100\n",
      "        \n",
      "   # for index, row in tgt.iterrows():\n",
      "   #   #  print index, row\n",
      "   #     row.cu_num = row.time * 100\n",
      "   #     #tgt.loc[index, \"\"] = \"I am working! {}\".format(row[\"B\"])\n",
      "\n",
      "    plot_frames.append(tgt)\n",
      "    for f in conc_frames[exp]:\n",
      "        plot_frames.append(f)\n",
      "\n",
      "    plot_conc(sid, plot_frames, title=exp, labels=['stampede    - target phase-1',\n",
      "                                                 # 'stampede    - integrated',\n",
      "                                                   'stampede    - agent isolated', \n",
      "                                                   'blue waters - integrated'])\n"
     ],
     "language": "python",
     "metadata": {},
     "outputs": [
      {
       "output_type": "stream",
       "stream": "stdout",
       "text": [
        "proposal plot\n",
        "4096\n"
       ]
      },
      {
       "output_type": "display_data",
       "png": "[encoded data removed]"
      }
     ],
     "prompt_number": 87
    },
    {
     "cell_type": "code",
     "collapsed": false,
     "input": [],
     "language": "python",
     "metadata": {},
     "outputs": []
    }
   ],
   "metadata": {}
  }
 ]
}